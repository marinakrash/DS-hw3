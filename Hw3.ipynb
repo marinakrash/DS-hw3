{
  "nbformat": 4,
  "nbformat_minor": 0,
  "metadata": {
    "colab": {
      "provenance": []
    },
    "kernelspec": {
      "name": "python3",
      "display_name": "Python 3"
    },
    "language_info": {
      "name": "python"
    }
  },
  "cells": [
    {
      "cell_type": "markdown",
      "source": [
        "Напишіть функцію гіпотези лінійної регресії у векторному вигляді"
      ],
      "metadata": {
        "id": "xnuCdDwSBbr6"
      }
    },
    {
      "cell_type": "code",
      "source": [
        "def h(w, X):\n",
        "  return (np.dot(w, X))"
      ],
      "metadata": {
        "id": "hmckrs5mPszo"
      },
      "execution_count": null,
      "outputs": []
    },
    {
      "cell_type": "markdown",
      "source": [
        "Створіть функцію для обчислення функції втрат у векторному вигляді;"
      ],
      "metadata": {
        "id": "IS2JDMd-BY_E"
      }
    },
    {
      "cell_type": "code",
      "source": [
        "import numpy as np\n",
        "\n",
        "def mse(y_true, y_pred):\n",
        "    return np.sum((y_pred - y_true)**2)/2*len(y_true)"
      ],
      "metadata": {
        "id": "_uJafmuCGSH6"
      },
      "execution_count": 10,
      "outputs": []
    },
    {
      "cell_type": "markdown",
      "source": [
        "Реалізуйте один крок градієнтного спуску"
      ],
      "metadata": {
        "id": "fbTJgGe8BW7q"
      }
    },
    {
      "cell_type": "code",
      "source": [
        "def gradient_descent(X, y, w, iters = 1, learning_rate = 0.01):\n",
        "    for i in range(iters):\n",
        "      gradients = -2 * X.T.dot(y - X.dot(w)) / len(y)\n",
        "      w -= learning_rate * gradients\n",
        "    return (w)"
      ],
      "metadata": {
        "id": "R9IPMOuOGHz2"
      },
      "execution_count": 35,
      "outputs": []
    },
    {
      "cell_type": "markdown",
      "source": [
        "Знайдіть найкращі параметри для датасету прогнозуючу ціну на будинок залежно від площі, кількості ванних кімнат та кількості спалень"
      ],
      "metadata": {
        "id": "J_cfHshnI7Xs"
      }
    },
    {
      "cell_type": "code",
      "source": [
        "import pandas as pd\n",
        "import numpy as np\n",
        "\n",
        "data = pd.read_csv(\"Housing.csv\")\n",
        "selected_columns = ['area', 'bedrooms', 'bathrooms']\n",
        "X = data[selected_columns].values\n",
        "y = data[\"price\"].values\n",
        "\n",
        "X_mean = np.mean(X, axis=0)\n",
        "X_std = np.std(X, axis=0)\n",
        "X_normalized = (X - X_mean) / X_std\n",
        "\n",
        "w = np.zeros(X_normalized.shape[1])\n",
        "\n",
        "fin_w = gradient_descent(X_normalized, y, w, iters = 1000, learning_rate = 0.01)\n",
        "print(\"Найкращі параметри w:\", fin_w)\n",
        "\n"
      ],
      "metadata": {
        "colab": {
          "base_uri": "https://localhost:8080/"
        },
        "id": "Dyj2Cx88JG2e",
        "outputId": "1026b533-dc31-4e55-d7c1-b3cfb22cf893"
      },
      "execution_count": 43,
      "outputs": [
        {
          "output_type": "stream",
          "name": "stdout",
          "text": [
            "Найкращі параметри w: [821214.21404292 299984.10905677 695807.95407458]\n"
          ]
        }
      ]
    },
    {
      "cell_type": "markdown",
      "source": [
        "Знайдіть ці ж параметри за допомогою аналітичного рішення"
      ],
      "metadata": {
        "id": "2A27MoC9uD0-"
      }
    },
    {
      "cell_type": "code",
      "source": [
        "a_w = np.linalg.inv(X_normalized.T.dot(X_normalized)).dot(X_normalized.T).dot(y)\n",
        "\n",
        "print(\"Найкращі параметри w:\", a_w)"
      ],
      "metadata": {
        "colab": {
          "base_uri": "https://localhost:8080/"
        },
        "id": "ITmSYRoIuD9z",
        "outputId": "51357670-0b7b-4dec-a120-a95fba272551"
      },
      "execution_count": 44,
      "outputs": [
        {
          "output_type": "stream",
          "name": "stdout",
          "text": [
            "Найкращі параметри w: [821214.14349519 299983.57107963 695808.52272537]\n"
          ]
        }
      ]
    },
    {
      "cell_type": "markdown",
      "source": [
        "Порівняйте отримані результати."
      ],
      "metadata": {
        "id": "WqJXvNL8yO6i"
      }
    },
    {
      "cell_type": "code",
      "source": [
        "print(np.round(fin_w).astype(int) == np.round(a_w).astype(int))"
      ],
      "metadata": {
        "colab": {
          "base_uri": "https://localhost:8080/"
        },
        "id": "de3GE29iyPEO",
        "outputId": "57007b70-9f38-42ad-a48d-b076ea316509"
      },
      "execution_count": 42,
      "outputs": [
        {
          "output_type": "stream",
          "name": "stdout",
          "text": [
            "[ True  True  True False]\n"
          ]
        }
      ]
    }
  ]
}